{
 "cells": [
  {
   "cell_type": "code",
   "execution_count": 1,
   "id": "9b18a45f-adf1-467c-869e-6448de889bf2",
   "metadata": {},
   "outputs": [],
   "source": [
    "import numpy as np\n",
    "import gsd.hoomd\n",
    "import math\n",
    "import matplotlib.pyplot as plt"
   ]
  },
  {
   "cell_type": "code",
   "execution_count": 2,
   "id": "2191954f-1bf6-483a-85c5-8adcfef737cf",
   "metadata": {},
   "outputs": [],
   "source": [
    "\n",
    "equi_file = 'Equil_traj_N_13000_rho_0.250.gsd'\n",
    "traj = gsd.hoomd.open(equi_file, mode = 'r')"
   ]
  },
  {
   "cell_type": "code",
   "execution_count": 3,
   "id": "c194ea15-8c03-47dd-80da-af58fa5b4aa4",
   "metadata": {},
   "outputs": [],
   "source": [
    "index = -1\n",
    "typeid = traj[index].particles.typeid\n",
    "pos_B  = traj[index].particles.position[typeid == 1]\n",
    "img_B = traj[index].particles.image[typeid == 1]\n",
    "real_pos = pos_B + traj[index].configuration.box[0:3] * img_B"
   ]
  },
  {
   "cell_type": "code",
   "execution_count": 4,
   "id": "d6ab6cbe-3ad5-48a7-8fbe-d6bf74979980",
   "metadata": {},
   "outputs": [],
   "source": [
    "cn = np.zeros(len(pos_B))\n",
    "\n",
    "def minimum_image_convention(pos, box):\n",
    "    # Compute pairwise distance vectors\n",
    "    dx = np.abs(pos[:, 0][:, np.newaxis] - pos[:, 0])\n",
    "    dy = np.abs(pos[:, 1][:, np.newaxis] - pos[:, 1])\n",
    "    dz = np.abs(pos[:, 2][:, np.newaxis] - pos[:, 2])\n",
    "    \n",
    "    dx = np.where(dx > 0.5 * box[0], dx - box[0], dx)\n",
    "    dx = np.where(dx < -0.5 * box[0], dx + box[0], dx)\n",
    "    \n",
    "    dy = np.where(dy > 0.5 * box[1], dy - box[1], dy)\n",
    "    dy = np.where(dy < -0.5 * box[1], dy + box[1], dy)\n",
    "\n",
    "    dz = np.where(dz > 0.5 * box[2], dz - box[2], dz)\n",
    "    dz = np.where(dz < -0.5 * box[2], dz + box[2], dz)\n",
    "    \n",
    "    # Compute distances\n",
    "    dist = np.sqrt(dx**2 + dy**2 + dz**2)\n",
    "    \n",
    "    return dist\n",
    "\n",
    "arr = minimum_image_convention(pos_B,traj[index].configuration.box[0:3])\n",
    "for i in range(len(arr)):\n",
    "    for j in range(i+1,len(arr)):\n",
    "        if (arr[i][j] < 0.2):\n",
    "            #print(i,j)\n",
    "            cn[i] += 1"
   ]
  },
  {
   "cell_type": "code",
   "execution_count": 5,
   "id": "be7a7202-7888-4921-9ea2-e604395169ad",
   "metadata": {},
   "outputs": [
    {
     "data": {
      "text/plain": [
       "[<matplotlib.lines.Line2D at 0x7f76043040d0>]"
      ]
     },
     "execution_count": 5,
     "metadata": {},
     "output_type": "execute_result"
    },
    {
     "data": {
      "image/png": "[encoded data removed]",
      "text/plain": [
       "<Figure size 640x480 with 1 Axes>"
      ]
     },
     "metadata": {},
     "output_type": "display_data"
    }
   ],
   "source": [
    "plt.plot(range(len(pos_B)),cn)"
   ]
  },
  {
   "cell_type": "code",
   "execution_count": 6,
   "id": "4f7d3f77-cb21-417f-9a80-6d3e6a789464",
   "metadata": {},
   "outputs": [],
   "source": [
    "numbonds = 0\n",
    "for i in cn:\n",
    "    if (i == 1):\n",
    "        numbonds += 1"
   ]
  },
  {
   "cell_type": "code",
   "execution_count": null,
   "id": "b0d4d628-a6a0-4949-8ebb-d11a02ce3c3b",
   "metadata": {},
   "outputs": [],
   "source": []
  },
  {
   "cell_type": "code",
   "execution_count": 7,
   "id": "00cda984-285a-40be-ad26-3f4d217274a7",
   "metadata": {},
   "outputs": [
    {
     "data": {
      "text/plain": [
       "1816"
      ]
     },
     "execution_count": 7,
     "metadata": {},
     "output_type": "execute_result"
    }
   ],
   "source": [
    "numbonds"
   ]
  },
  {
   "cell_type": "code",
   "execution_count": null,
   "id": "783ed00e-b52d-482d-b40d-52328dfe4828",
   "metadata": {},
   "outputs": [],
   "source": []
  }
 ],
 "metadata": {
  "kernelspec": {
   "display_name": "Python 3 (ipykernel)",
   "language": "python",
   "name": "python3"
  },
  "language_info": {
   "codemirror_mode": {
    "name": "ipython",
    "version": 3
   },
   "file_extension": ".py",
   "mimetype": "text/x-python",
   "name": "python",
   "nbconvert_exporter": "python",
   "pygments_lexer": "ipython3",
   "version": "3.8.18"
  }
 },
 "nbformat": 4,
 "nbformat_minor": 5
}
